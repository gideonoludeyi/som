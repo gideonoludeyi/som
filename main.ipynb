{
 "cells": [
  {
   "cell_type": "code",
   "execution_count": 1,
   "id": "5b985fe1-e1b0-4de5-907c-d8650a69acde",
   "metadata": {
    "scrolled": true
   },
   "outputs": [
    {
     "name": "stdout",
     "output_type": "stream",
     "text": [
      "Collecting numpy==2.1.3\n",
      "  Using cached numpy-2.1.3-cp312-cp312-macosx_14_0_arm64.whl.metadata (62 kB)\n",
      "Collecting matplotlib==3.9.2\n",
      "  Using cached matplotlib-3.9.2-cp312-cp312-macosx_11_0_arm64.whl.metadata (11 kB)\n",
      "Collecting seaborn==0.13.2\n",
      "  Using cached seaborn-0.13.2-py3-none-any.whl.metadata (5.4 kB)\n",
      "Collecting tqdm==4.67.1\n",
      "  Using cached tqdm-4.67.1-py3-none-any.whl.metadata (57 kB)\n",
      "Collecting contourpy>=1.0.1 (from matplotlib==3.9.2)\n",
      "  Using cached contourpy-1.3.1-cp312-cp312-macosx_11_0_arm64.whl.metadata (5.4 kB)\n",
      "Collecting cycler>=0.10 (from matplotlib==3.9.2)\n",
      "  Using cached cycler-0.12.1-py3-none-any.whl.metadata (3.8 kB)\n",
      "Collecting fonttools>=4.22.0 (from matplotlib==3.9.2)\n",
      "  Downloading fonttools-4.55.2-cp312-cp312-macosx_10_13_universal2.whl.metadata (164 kB)\n",
      "Collecting kiwisolver>=1.3.1 (from matplotlib==3.9.2)\n",
      "  Using cached kiwisolver-1.4.7-cp312-cp312-macosx_11_0_arm64.whl.metadata (6.3 kB)\n",
      "Requirement already satisfied: packaging>=20.0 in ./.venv/lib/python3.12/site-packages (from matplotlib==3.9.2) (24.2)\n",
      "Collecting pillow>=8 (from matplotlib==3.9.2)\n",
      "  Using cached pillow-11.0.0-cp312-cp312-macosx_11_0_arm64.whl.metadata (9.1 kB)\n",
      "Collecting pyparsing>=2.3.1 (from matplotlib==3.9.2)\n",
      "  Using cached pyparsing-3.2.0-py3-none-any.whl.metadata (5.0 kB)\n",
      "Requirement already satisfied: python-dateutil>=2.7 in ./.venv/lib/python3.12/site-packages (from matplotlib==3.9.2) (2.9.0.post0)\n",
      "Collecting pandas>=1.2 (from seaborn==0.13.2)\n",
      "  Using cached pandas-2.2.3-cp312-cp312-macosx_11_0_arm64.whl.metadata (89 kB)\n",
      "Collecting pytz>=2020.1 (from pandas>=1.2->seaborn==0.13.2)\n",
      "  Using cached pytz-2024.2-py2.py3-none-any.whl.metadata (22 kB)\n",
      "Collecting tzdata>=2022.7 (from pandas>=1.2->seaborn==0.13.2)\n",
      "  Using cached tzdata-2024.2-py2.py3-none-any.whl.metadata (1.4 kB)\n",
      "Requirement already satisfied: six>=1.5 in ./.venv/lib/python3.12/site-packages (from python-dateutil>=2.7->matplotlib==3.9.2) (1.16.0)\n",
      "Using cached numpy-2.1.3-cp312-cp312-macosx_14_0_arm64.whl (5.1 MB)\n",
      "Using cached matplotlib-3.9.2-cp312-cp312-macosx_11_0_arm64.whl (7.8 MB)\n",
      "Using cached seaborn-0.13.2-py3-none-any.whl (294 kB)\n",
      "Using cached tqdm-4.67.1-py3-none-any.whl (78 kB)\n",
      "Using cached contourpy-1.3.1-cp312-cp312-macosx_11_0_arm64.whl (255 kB)\n",
      "Using cached cycler-0.12.1-py3-none-any.whl (8.3 kB)\n",
      "Downloading fonttools-4.55.2-cp312-cp312-macosx_10_13_universal2.whl (2.8 MB)\n",
      "\u001b[2K   \u001b[38;2;114;156;31m━━━━━━━━━━━━━━━━━━━━━━━━━━━━━━━━━━━━━━━━\u001b[0m \u001b[32m2.8/2.8 MB\u001b[0m \u001b[31m34.0 MB/s\u001b[0m eta \u001b[36m0:00:00\u001b[0m\n",
      "\u001b[?25hUsing cached kiwisolver-1.4.7-cp312-cp312-macosx_11_0_arm64.whl (63 kB)\n",
      "Using cached pandas-2.2.3-cp312-cp312-macosx_11_0_arm64.whl (11.4 MB)\n",
      "Using cached pillow-11.0.0-cp312-cp312-macosx_11_0_arm64.whl (3.0 MB)\n",
      "Using cached pyparsing-3.2.0-py3-none-any.whl (106 kB)\n",
      "Using cached pytz-2024.2-py2.py3-none-any.whl (508 kB)\n",
      "Using cached tzdata-2024.2-py2.py3-none-any.whl (346 kB)\n",
      "Installing collected packages: pytz, tzdata, tqdm, pyparsing, pillow, numpy, kiwisolver, fonttools, cycler, pandas, contourpy, matplotlib, seaborn\n",
      "Successfully installed contourpy-1.3.1 cycler-0.12.1 fonttools-4.55.2 kiwisolver-1.4.7 matplotlib-3.9.2 numpy-2.1.3 pandas-2.2.3 pillow-11.0.0 pyparsing-3.2.0 pytz-2024.2 seaborn-0.13.2 tqdm-4.67.1 tzdata-2024.2\n",
      "\n",
      "\u001b[1m[\u001b[0m\u001b[34;49mnotice\u001b[0m\u001b[1;39;49m]\u001b[0m\u001b[39;49m A new release of pip is available: \u001b[0m\u001b[31;49m24.2\u001b[0m\u001b[39;49m -> \u001b[0m\u001b[32;49m24.3.1\u001b[0m\n",
      "\u001b[1m[\u001b[0m\u001b[34;49mnotice\u001b[0m\u001b[1;39;49m]\u001b[0m\u001b[39;49m To update, run: \u001b[0m\u001b[32;49mpip install --upgrade pip\u001b[0m\n"
     ]
    }
   ],
   "source": [
    "!pip install \"numpy==2.1.3\" \"matplotlib==3.9.2\" \"seaborn==0.13.2\" \"tqdm==4.67.1\""
   ]
  },
  {
   "cell_type": "code",
   "execution_count": 2,
   "id": "fbc712eb-e08d-45d7-951d-e00466f1302f",
   "metadata": {},
   "outputs": [],
   "source": [
    "import typing\n",
    "import pathlib\n",
    "import random\n",
    "import math\n",
    "import numpy as np\n",
    "import matplotlib.pyplot as plt\n",
    "import seaborn as sns\n",
    "from tqdm.notebook import tqdm"
   ]
  },
  {
   "cell_type": "code",
   "execution_count": 3,
   "id": "3f3a2685-98c4-40d8-8331-db64c2dca756",
   "metadata": {},
   "outputs": [],
   "source": [
    "random.seed(123456789)"
   ]
  },
  {
   "cell_type": "code",
   "execution_count": 4,
   "id": "50221e6e-d306-44d0-abac-757877ec5003",
   "metadata": {},
   "outputs": [],
   "source": [
    "def minmaxnorm(x, min_=0.0, max_=1.0):\n",
    "    x = np.asarray(x)\n",
    "    minx = min(x)\n",
    "    maxx = max(x)\n",
    "    std = (x - minx) / (maxx - minx)\n",
    "    return std * (max_ - min_) + min_"
   ]
  },
  {
   "cell_type": "code",
   "execution_count": 5,
   "id": "91dece2f-fa58-4c27-9840-f193cb097edb",
   "metadata": {
    "jupyter": {
     "source_hidden": true
    }
   },
   "outputs": [],
   "source": [
    "def parse_datafile(datafile: typing.TextIO):\n",
    "    \"\"\"\n",
    "    Returns: a pair of features and their corresponding target value\n",
    "    Example:\n",
    "        3 4\n",
    "        0 389.05 133.34 62.14 32.60\n",
    "        0 324.10 185.78 53.32 42.18\n",
    "        1 438.88 161.21 88.47 51.06\n",
    "    \"\"\"\n",
    "    header = datafile.readline().strip()\n",
    "    n_instances, n_features = map(int, map(str.strip, header.split(\" \")))\n",
    "    lines = [datafile.readline().strip() for _ in range(n_instances)]\n",
    "    X = []\n",
    "    y = []\n",
    "    for line in lines:\n",
    "        values = [point for point in line.split(\" \") if point.strip() != \"\"]\n",
    "        y.append(int(values[0]))\n",
    "        # mag_X = math.sqrt(sum(math.pow(float(x), 2) for x in values[1 : n_features + 1]))\n",
    "        # X.append([float(x) / mag_X for x in values[1 : n_features + 1]])\n",
    "        X.append(minmaxnorm([float(x) for x in values[1 : n_features + 1]])[:])\n",
    "    return X, y"
   ]
  },
  {
   "cell_type": "code",
   "execution_count": 6,
   "id": "4f9bb29c-bdba-40ca-89ba-960a592061d9",
   "metadata": {},
   "outputs": [],
   "source": [
    "datafile = pathlib.Path.cwd().joinpath('data').joinpath('L30fft16.out')\n",
    "with open(datafile) as f:\n",
    "    X, y = parse_datafile(f)"
   ]
  },
  {
   "cell_type": "code",
   "execution_count": 7,
   "id": "0b011304-1a2f-4f8e-9b47-7cb594d68240",
   "metadata": {
    "jupyter": {
     "source_hidden": true
    }
   },
   "outputs": [],
   "source": [
    "class Neuron:\n",
    "    def __init__(self, xy_loc: tuple[int, int], n: int, random_seed=None):\n",
    "        rng = np.random.default_rng(random_seed)\n",
    "        self.weights = rng.uniform(-1.0, 1.0, n)\n",
    "        self.loc = xy_loc"
   ]
  },
  {
   "cell_type": "code",
   "execution_count": 8,
   "id": "6826d47c-67da-4fa5-afff-07cb25af6681",
   "metadata": {},
   "outputs": [],
   "source": [
    "def dist(V, X):\n",
    "    \"\"\"\n",
    "    distance between two vectors in n space\n",
    "    \"\"\"\n",
    "    return np.sqrt(np.sum(np.square(np.subtract(V, X))))"
   ]
  },
  {
   "cell_type": "code",
   "execution_count": 9,
   "id": "50c5739f-5c18-4deb-aae8-7ab07d4a6189",
   "metadata": {},
   "outputs": [],
   "source": [
    "def distneurons(V1loc, V2loc, m):\n",
    "    \"\"\"\n",
    "    distance between two neurons (wrap-around)\n",
    "    \"\"\"\n",
    "    mx = my = math.sqrt(m)\n",
    "    x1, y1 = V1loc\n",
    "    x2, y2 = V2loc\n",
    "    xdist = min(abs(x2-x1), abs((x2+mx)-x1), abs(x2-(x1+mx)))\n",
    "    ydist = min(abs(y2-y1), abs((y2+my)-y1), abs(y2-(y1+my)))\n",
    "    return np.sqrt(np.square(xdist) + np.square(ydist))"
   ]
  },
  {
   "cell_type": "code",
   "execution_count": 10,
   "id": "e258024a-5025-4683-9670-4ebac2b1ff33",
   "metadata": {},
   "outputs": [],
   "source": [
    "def r(t, T, maximum=1.0):\n",
    "    return maximum * np.exp(-t/T)"
   ]
  },
  {
   "cell_type": "markdown",
   "id": "5607d44b-a8e1-4c44-aafa-32d8a114140b",
   "metadata": {},
   "source": [
    "Radial Basis Function (RBF)\n",
    "$$\n",
    "\\phi_{\\epsilon}(r) = e^{-\\epsilon (r)^2}\n",
    "$$"
   ]
  },
  {
   "cell_type": "code",
   "execution_count": 11,
   "id": "75900ad0-b76d-44ee-9f19-ce1ccf353717",
   "metadata": {},
   "outputs": [],
   "source": [
    "def rbf(r, epsilon):\n",
    "    return np.exp(-epsilon * np.power(r, 2))"
   ]
  },
  {
   "cell_type": "markdown",
   "id": "762a0c64-6d12-4da7-97ef-4e6078e1b93b",
   "metadata": {},
   "source": [
    "$$\n",
    "d(V, X, r) = 2 e^{-r\\text{dist}(V, X)^2}~~~~~~\\text{where}~~~0 < r < \\text{max}\n",
    "$$"
   ]
  },
  {
   "cell_type": "code",
   "execution_count": 12,
   "id": "9a65dac7-3540-413e-b5a9-9f01185bb8be",
   "metadata": {},
   "outputs": [],
   "source": [
    "def rbfdist(V, X, r):\n",
    "    return 2 * rbf(dist(V, X), epsilon=r)\n",
    "    # return rbf(dist(V, X), epsilon=r)"
   ]
  },
  {
   "cell_type": "markdown",
   "id": "259155e1-d1dc-4aac-955e-29acd4a3844c",
   "metadata": {},
   "source": [
    "neighborhood strength\n",
    "\n",
    "$$\n",
    "d(V_1, V_2, t) = e^{-\\frac{t}{T} \\times dist(V_1, V_2)^2}\n",
    "$$"
   ]
  },
  {
   "cell_type": "code",
   "execution_count": 13,
   "id": "8d9a47e6-e00c-475d-bb99-9ef22157fc7b",
   "metadata": {},
   "outputs": [],
   "source": [
    "def neighborhoodstrength(V1, V2, t, T, m):\n",
    "    sigma = 1 / (2 * np.log(2))\n",
    "    return rbf(distneurons(V1.loc, V2.loc, m=m), epsilon=sigma * t/T)"
   ]
  },
  {
   "cell_type": "markdown",
   "id": "532c8022-1144-4132-b167-368b7c904b46",
   "metadata": {},
   "source": [
    "adaptive learning rate\n",
    "$$\n",
    "\\eta = \\alpha e^{-2\\frac{t}{T}}\n",
    "$$"
   ]
  },
  {
   "cell_type": "code",
   "execution_count": 14,
   "id": "c6225a70-5cc4-4b0b-9283-222a57b64208",
   "metadata": {},
   "outputs": [],
   "source": [
    "def eta(t, initial_learning_rate, T):\n",
    "    return initial_learning_rate * np.exp(-2 * t / T)"
   ]
  },
  {
   "cell_type": "code",
   "execution_count": 15,
   "id": "29aa293b-de4f-4e5b-a0fa-3c614bb9da7f",
   "metadata": {},
   "outputs": [],
   "source": [
    "def bmu(x, neurons):\n",
    "    return min(neurons, key=lambda node: dist(node.weights, x))"
   ]
  },
  {
   "cell_type": "code",
   "execution_count": 16,
   "id": "b416acff-010f-4246-8789-edcdb1c547a1",
   "metadata": {},
   "outputs": [],
   "source": [
    "class SOM:\n",
    "    def __init__(self, n, m, random_seed=None):\n",
    "        row_size = int(math.sqrt(m))\n",
    "        self.n = n\n",
    "        self.m = m\n",
    "        self.rng = np.random.default_rng(random_seed)\n",
    "        self.nodes = [Neuron(divmod(k, row_size), n=n, random_seed=self.rng) for k in range(m)]\n",
    "\n",
    "    def train(self, X, L, T):\n",
    "        l_rate = L\n",
    "        progress = tqdm(range(T * len(X)))\n",
    "        for t in range(T):\n",
    "            xs = np.copy(X)\n",
    "            self.rng.shuffle(xs)\n",
    "            for x in xs:\n",
    "                # Choose a random vector x\n",
    "                # Find the closest v to x\n",
    "                v0 = bmu(x, self.nodes)\n",
    "                # move v0 closer to x by some factor\n",
    "                delta_v0 = eta(t, l_rate, T) * rbfdist(v0.weights, x, r(t, T=T))\n",
    "                v0.weights = np.subtract(v0.weights, delta_v0)\n",
    "                # update all v based on neighbourhood update function\n",
    "                for v in self.nodes:\n",
    "                    if v != v0:\n",
    "                        delta_v = eta(t, l_rate, T) * neighborhoodstrength(v0, v, t, T=T, m=self.m)\n",
    "                        v.weights -= delta_v * np.subtract(v.weights, x)\n",
    "            progress.update(len(X))\n",
    "        return self    \n",
    "\n",
    "    def classify(self, X, Y):\n",
    "        maps = {(node.loc): 0.0 for node in self.nodes}\n",
    "        for x, y in zip(X, Y):\n",
    "            v0 = bmu(x, self.nodes)\n",
    "            for v in self.nodes:\n",
    "                activation = neighborhoodstrength(v0, v, t=1, T=1, m=self.m)\n",
    "                if y == 0:\n",
    "                    maps[v.loc] += activation\n",
    "                else:\n",
    "                    maps[v.loc] -= activation\n",
    "        return [maps[node.loc] for node in self.nodes]"
   ]
  },
  {
   "cell_type": "code",
   "execution_count": 17,
   "id": "e9c89086-ba7c-44ce-b3c3-bca486f28619",
   "metadata": {},
   "outputs": [],
   "source": [
    "M = 7*7 # number of V centroids\n",
    "N = len(X[0]) # number of dimensions\n",
    "T = 2000 # max number of time units"
   ]
  },
  {
   "cell_type": "code",
   "execution_count": 18,
   "id": "9782e593-db46-4778-aa88-4b9b4f15c71b",
   "metadata": {},
   "outputs": [
    {
     "data": {
      "application/vnd.jupyter.widget-view+json": {
       "model_id": "92297797c5db4495a836311a18d529f7",
       "version_major": 2,
       "version_minor": 0
      },
      "text/plain": [
       "  0%|          | 0/106000 [00:00<?, ?it/s]"
      ]
     },
     "metadata": {},
     "output_type": "display_data"
    },
    {
     "data": {
      "text/plain": [
       "<__main__.SOM at 0x1214c61e0>"
      ]
     },
     "execution_count": 18,
     "metadata": {},
     "output_type": "execute_result"
    }
   ],
   "source": [
    "som = SOM(n=N, m=M, random_seed=123456789)\n",
    "som.train(X, 1.0, T)"
   ]
  },
  {
   "cell_type": "code",
   "execution_count": 19,
   "id": "085d0a11-0a7a-44cc-9a50-a7995323021f",
   "metadata": {},
   "outputs": [
    {
     "data": {
      "image/png": "[encoded data removed]",
      "text/plain": [
       "<Figure size 640x480 with 2 Axes>"
      ]
     },
     "metadata": {},
     "output_type": "display_data"
    }
   ],
   "source": [
    "preds = minmaxnorm(som.classify(X, y), min_=-1.0, max_=1.0) # scale to [-1.0, 1.0]\n",
    "heatmap = np.empty((int(math.sqrt(len(som.nodes))), int(math.sqrt(len(som.nodes)))))\n",
    "for node, pred in zip(som.nodes, preds):\n",
    "    heatmap[int(node.loc[0]), int(node.loc[1])] = pred\n",
    "\n",
    "sns.heatmap(heatmap, square=True)\n",
    "\n",
    "row_size = int(math.sqrt(M))\n",
    "plt.title(f\"SOM {row_size}x{row_size} - {datafile.name} (T={T})\")\n",
    "\n",
    "plt.tick_params(axis='x', which='both', bottom=False, top=False, labelbottom=False)\n",
    "plt.tick_params(axis='y', which='both', left=False, right=False, labelleft=False)\n",
    "\n",
    "# plt.savefig(f\"tmp/heatmap-{row_size}x{row_size}-{datafile.stem}.png\")\n",
    "plt.show()"
   ]
  }
 ],
 "metadata": {
  "kernelspec": {
   "display_name": "Python 3 (ipykernel)",
   "language": "python",
   "name": "python3"
  },
  "language_info": {
   "codemirror_mode": {
    "name": "ipython",
    "version": 3
   },
   "file_extension": ".py",
   "mimetype": "text/x-python",
   "name": "python",
   "nbconvert_exporter": "python",
   "pygments_lexer": "ipython3",
   "version": "3.12.7"
  }
 },
 "nbformat": 4,
 "nbformat_minor": 5
}

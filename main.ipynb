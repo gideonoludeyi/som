{
 "cells": [
  {
   "cell_type": "code",
   "execution_count": 1,
   "id": "5b985fe1-e1b0-4de5-907c-d8650a69acde",
   "metadata": {
    "scrolled": true
   },
   "outputs": [],
   "source": [
    "# !pip install \"numpy==2.1.3\" \"matplotlib==3.9.2\" \"seaborn==0.13.2\" \"tqdm==4.67.1\""
   ]
  },
  {
   "cell_type": "code",
   "execution_count": 2,
   "id": "fbc712eb-e08d-45d7-951d-e00466f1302f",
   "metadata": {},
   "outputs": [],
   "source": [
    "import typing\n",
    "import pathlib\n",
    "import random\n",
    "import math\n",
    "import numpy as np\n",
    "import matplotlib.pyplot as plt\n",
    "import seaborn as sns\n",
    "from tqdm.notebook import tqdm"
   ]
  },
  {
   "cell_type": "code",
   "execution_count": 3,
   "id": "3f3a2685-98c4-40d8-8331-db64c2dca756",
   "metadata": {},
   "outputs": [],
   "source": [
    "random.seed(123456789)"
   ]
  },
  {
   "cell_type": "code",
   "execution_count": 4,
   "id": "50221e6e-d306-44d0-abac-757877ec5003",
   "metadata": {},
   "outputs": [],
   "source": [
    "def minmaxnorm(x, min_=0.0, max_=1.0):\n",
    "    x = np.asarray(x)\n",
    "    minx = min(x)\n",
    "    maxx = max(x)\n",
    "    std = (x - minx) / (maxx - minx)\n",
    "    return std * (max_ - min_) + min_"
   ]
  },
  {
   "cell_type": "code",
   "execution_count": 5,
   "id": "91dece2f-fa58-4c27-9840-f193cb097edb",
   "metadata": {
    "jupyter": {
     "source_hidden": true
    }
   },
   "outputs": [],
   "source": [
    "def parse_datafile(datafile: typing.TextIO):\n",
    "    \"\"\"\n",
    "    Returns: a pair of features and their corresponding target value\n",
    "    Example:\n",
    "        3 4\n",
    "        0 389.05 133.34 62.14 32.60\n",
    "        0 324.10 185.78 53.32 42.18\n",
    "        1 438.88 161.21 88.47 51.06\n",
    "    \"\"\"\n",
    "    header = datafile.readline().strip()\n",
    "    n_instances, n_features = map(int, map(str.strip, header.split(\" \")))\n",
    "    lines = [datafile.readline().strip() for _ in range(n_instances)]\n",
    "    X = []\n",
    "    y = []\n",
    "    for line in lines:\n",
    "        values = [point for point in line.split(\" \") if point.strip() != \"\"]\n",
    "        y.append(int(values[0]))\n",
    "        # mag_X = math.sqrt(sum(math.pow(float(x), 2) for x in values[1 : n_features + 1]))\n",
    "        # X.append([float(x) / mag_X for x in values[1 : n_features + 1]])\n",
    "        X.append(minmaxnorm([float(x) for x in values[1 : n_features + 1]])[:])\n",
    "    return X, y"
   ]
  },
  {
   "cell_type": "code",
   "execution_count": 6,
   "id": "4f9bb29c-bdba-40ca-89ba-960a592061d9",
   "metadata": {},
   "outputs": [],
   "source": [
    "datafile = pathlib.Path.cwd().joinpath('data').joinpath('L30fft16.out')\n",
    "with open(datafile) as f:\n",
    "    X, y = parse_datafile(f)"
   ]
  },
  {
   "cell_type": "code",
   "execution_count": 7,
   "id": "0b011304-1a2f-4f8e-9b47-7cb594d68240",
   "metadata": {
    "jupyter": {
     "source_hidden": true
    }
   },
   "outputs": [],
   "source": [
    "class Neuron:\n",
    "    def __init__(self, xy_loc: tuple[int, int], n: int, random_seed=None):\n",
    "        rng = np.random.default_rng(random_seed)\n",
    "        self.weights = rng.uniform(-1.0, 1.0, n)\n",
    "        self.loc = xy_loc"
   ]
  },
  {
   "cell_type": "code",
   "execution_count": 8,
   "id": "6826d47c-67da-4fa5-afff-07cb25af6681",
   "metadata": {},
   "outputs": [],
   "source": [
    "def dist(V, X):\n",
    "    \"\"\"\n",
    "    distance between two vectors in n space\n",
    "    \"\"\"\n",
    "    return math.sqrt(sum(math.pow(v - x, 2) for v, x in zip(V, X)))"
   ]
  },
  {
   "cell_type": "code",
   "execution_count": 9,
   "id": "50c5739f-5c18-4deb-aae8-7ab07d4a6189",
   "metadata": {},
   "outputs": [],
   "source": [
    "def distneurons(V1loc, V2loc, m):\n",
    "    \"\"\"\n",
    "    distance between two neurons (wrap-around)\n",
    "    \"\"\"\n",
    "    mx = my = math.sqrt(m)\n",
    "    x1, y1 = V1loc\n",
    "    x2, y2 = V2loc\n",
    "    xdist = min(abs(x2-x1), abs((x2+mx)-x1), abs(x2-(x1+mx)))\n",
    "    ydist = min(abs(y2-y1), abs((y2+my)-y1), abs(y2-(y1+my)))\n",
    "    return math.sqrt(math.pow(xdist,2) + math.pow(ydist,2))"
   ]
  },
  {
   "cell_type": "code",
   "execution_count": 10,
   "id": "e258024a-5025-4683-9670-4ebac2b1ff33",
   "metadata": {},
   "outputs": [],
   "source": [
    "def r(t, T, maximum=1.0):\n",
    "    return maximum * math.exp(-t/T)"
   ]
  },
  {
   "cell_type": "markdown",
   "id": "5607d44b-a8e1-4c44-aafa-32d8a114140b",
   "metadata": {},
   "source": [
    "Radial Basis Function (RBF)\n",
    "$$\n",
    "\\phi_{\\epsilon}(r) = e^{-\\epsilon (r)^2}\n",
    "$$"
   ]
  },
  {
   "cell_type": "code",
   "execution_count": 11,
   "id": "75900ad0-b76d-44ee-9f19-ce1ccf353717",
   "metadata": {},
   "outputs": [],
   "source": [
    "def rbf(r, epsilon):\n",
    "    return math.exp(-epsilon * math.pow(r, 2))"
   ]
  },
  {
   "cell_type": "markdown",
   "id": "762a0c64-6d12-4da7-97ef-4e6078e1b93b",
   "metadata": {},
   "source": [
    "$$\n",
    "d(V, X, r) = 2 e^{-r\\text{dist}(V, X)^2}~~~~~~\\text{where}~~~0 < r < \\text{max}\n",
    "$$"
   ]
  },
  {
   "cell_type": "code",
   "execution_count": 12,
   "id": "9a65dac7-3540-413e-b5a9-9f01185bb8be",
   "metadata": {},
   "outputs": [],
   "source": [
    "def rbfdist(V, X, r):\n",
    "    return 2 * rbf(dist(V, X), epsilon=r)\n",
    "    # return rbf(dist(V, X), epsilon=r)"
   ]
  },
  {
   "cell_type": "markdown",
   "id": "259155e1-d1dc-4aac-955e-29acd4a3844c",
   "metadata": {},
   "source": [
    "neighborhood strength\n",
    "\n",
    "$$\n",
    "d(V_1, V_2, t) = e^{-\\frac{t}{T} \\times dist(V_1, V_2)^2}\n",
    "$$"
   ]
  },
  {
   "cell_type": "code",
   "execution_count": 13,
   "id": "8d9a47e6-e00c-475d-bb99-9ef22157fc7b",
   "metadata": {},
   "outputs": [],
   "source": [
    "def neighborhoodstrength(V1, V2, t, T, m):\n",
    "    return rbf(distneurons(V1.loc, V2.loc, m=m), epsilon=t/T)\n",
    "    # return math.exp(-t/T * math.pow(distneurons(V1.loc, V2.loc, m=m), 2))"
   ]
  },
  {
   "cell_type": "markdown",
   "id": "532c8022-1144-4132-b167-368b7c904b46",
   "metadata": {},
   "source": [
    "adaptive learning rate\n",
    "$$\n",
    "\\eta = \\alpha e^{-2\\frac{t}{T}}\n",
    "$$"
   ]
  },
  {
   "cell_type": "code",
   "execution_count": 14,
   "id": "c6225a70-5cc4-4b0b-9283-222a57b64208",
   "metadata": {},
   "outputs": [],
   "source": [
    "def eta(t, initial_learning_rate, T):\n",
    "    return initial_learning_rate * math.exp(-2 * t / T)"
   ]
  },
  {
   "cell_type": "code",
   "execution_count": 15,
   "id": "29aa293b-de4f-4e5b-a0fa-3c614bb9da7f",
   "metadata": {},
   "outputs": [],
   "source": [
    "def bmu(x, neurons):\n",
    "    return min(neurons, key=lambda node: dist(node.weights, x))"
   ]
  },
  {
   "cell_type": "code",
   "execution_count": 16,
   "id": "b416acff-010f-4246-8789-edcdb1c547a1",
   "metadata": {},
   "outputs": [],
   "source": [
    "class SOM:\n",
    "    def __init__(self, n, m, random_seed=None):\n",
    "        row_size = int(math.sqrt(m))\n",
    "        self.n = n\n",
    "        self.m = m\n",
    "        self.rng = np.random.default_rng(random_seed)\n",
    "        self.nodes = [Neuron(divmod(k, row_size), n=n, random_seed=self.rng) for k in range(m)]\n",
    "\n",
    "    def train(self, X, L, T, random_seed=None):\n",
    "        l_rate = L\n",
    "        progress = tqdm(range(T * len(X)))\n",
    "        for t in range(T):\n",
    "            xs = np.copy(X)\n",
    "            self.rng.shuffle(xs)\n",
    "            for x in xs:\n",
    "                # Choose a random vector x\n",
    "                # Find the closest v to x\n",
    "                v0 = bmu(x, self.nodes)\n",
    "                # move v0 closer to x by some factor\n",
    "                delta_v0 = eta(t, l_rate, T) * rbfdist(v0.weights, x, r(t, T=T))\n",
    "                for j in range(len(v0.weights)):\n",
    "                    v0.weights[j] -= delta_v0\n",
    "                # update all v based on neighbourhood update function\n",
    "                for v in self.nodes:\n",
    "                    if v != v0:\n",
    "                        for j in range(len(v.weights)):\n",
    "                            v.weights[j] -= eta(t, l_rate, T) * neighborhoodstrength(v0, v, t, T=T, m=self.m) * (v.weights[j] - x[j])\n",
    "                progress.update(1)\n",
    "        return self    \n",
    "\n",
    "    def classify(self, X, Y):\n",
    "        preds = []\n",
    "        for node in self.nodes:\n",
    "            pred = []\n",
    "            for x, y in zip(X, Y):\n",
    "                p = rbfdist(node.weights, x, r(T,T=T))\n",
    "                if y == 0:\n",
    "                    pred.append(p)\n",
    "                else:\n",
    "                    pred.append(-p)\n",
    "            preds.append(sum(pred) / len(pred))\n",
    "        return preds\n"
   ]
  },
  {
   "cell_type": "code",
   "execution_count": 17,
   "id": "e9c89086-ba7c-44ce-b3c3-bca486f28619",
   "metadata": {},
   "outputs": [],
   "source": [
    "M = 7*7 # number of V centroids\n",
    "N = len(X[0]) # number of dimensions\n",
    "T = 2000 # max number of time units"
   ]
  },
  {
   "cell_type": "code",
   "execution_count": 18,
   "id": "9782e593-db46-4778-aa88-4b9b4f15c71b",
   "metadata": {},
   "outputs": [
    {
     "data": {
      "application/vnd.jupyter.widget-view+json": {
       "model_id": "dd6e0c019cf641708d2a950844e357c9",
       "version_major": 2,
       "version_minor": 0
      },
      "text/plain": [
       "  0%|          | 0/106000 [00:00<?, ?it/s]"
      ]
     },
     "metadata": {},
     "output_type": "display_data"
    },
    {
     "data": {
      "text/plain": [
       "<__main__.SOM at 0x108989a00>"
      ]
     },
     "execution_count": 18,
     "metadata": {},
     "output_type": "execute_result"
    }
   ],
   "source": [
    "som = SOM(n=N, m=M, random_seed=123456789)\n",
    "som.train(X, 1.0, T)"
   ]
  },
  {
   "cell_type": "code",
   "execution_count": 19,
   "id": "9f6b5a2c-a7b7-4c87-9326-c09f9be8e751",
   "metadata": {},
   "outputs": [
    {
     "data": {
      "image/png": "[encoded data removed]",
      "text/plain": [
       "<Figure size 640x480 with 2 Axes>"
      ]
     },
     "metadata": {},
     "output_type": "display_data"
    }
   ],
   "source": [
    "preds = minmaxnorm(som.classify(X, y), min_=-1.0, max_=1.0) # scale to [-1.0, 1.0]\n",
    "heatmap = np.empty((int(math.sqrt(len(som.nodes))), int(math.sqrt(len(som.nodes)))))\n",
    "for node, pred in zip(som.nodes, preds):\n",
    "    heatmap[int(node.loc[0]), int(node.loc[1])] = pred\n",
    "\n",
    "sns.heatmap(heatmap, square=True)\n",
    "\n",
    "row_size = int(math.sqrt(M))\n",
    "plt.title(f\"SOM {row_size}x{row_size} - {datafile.name} (T={T})\")\n",
    "\n",
    "plt.tick_params(axis='x', which='both', bottom=False, top=False, labelbottom=False)\n",
    "plt.tick_params(axis='y', which='both', left=False, right=False, labelleft=False)\n",
    "\n",
    "# plt.savefig(f\"heatmap-{row_size}x{row_size}-{datafile.stem}.png\")\n",
    "plt.show()"
   ]
  },
  {
   "cell_type": "code",
   "execution_count": null,
   "id": "70610a8a-7a33-4e5d-bc02-13f44738bb3f",
   "metadata": {},
   "outputs": [],
   "source": []
  }
 ],
 "metadata": {
  "kernelspec": {
   "display_name": "Python 3 (ipykernel)",
   "language": "python",
   "name": "python3"
  },
  "language_info": {
   "codemirror_mode": {
    "name": "ipython",
    "version": 3
   },
   "file_extension": ".py",
   "mimetype": "text/x-python",
   "name": "python",
   "nbconvert_exporter": "python",
   "pygments_lexer": "ipython3",
   "version": "3.12.7"
  }
 },
 "nbformat": 4,
 "nbformat_minor": 5
}

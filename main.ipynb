{
 "cells": [
  {
   "cell_type": "code",
   "execution_count": 1,
   "id": "fbc712eb-e08d-45d7-951d-e00466f1302f",
   "metadata": {},
   "outputs": [],
   "source": [
    "import typing\n",
    "import pathlib\n",
    "import random\n",
    "import math"
   ]
  },
  {
   "cell_type": "code",
   "execution_count": 2,
   "id": "3f3a2685-98c4-40d8-8331-db64c2dca756",
   "metadata": {},
   "outputs": [],
   "source": [
    "random.seed(123456789)"
   ]
  },
  {
   "cell_type": "code",
   "execution_count": 3,
   "id": "91dece2f-fa58-4c27-9840-f193cb097edb",
   "metadata": {},
   "outputs": [],
   "source": [
    "def parse_datafile(datafile: typing.TextIO):\n",
    "    \"\"\"\n",
    "    Returns: a pair of features and their corresponding target value\n",
    "    Example:\n",
    "        3 4\n",
    "        0 389.05 133.34 62.14 32.60\n",
    "        0 324.10 185.78 53.32 42.18\n",
    "        1 438.88 161.21 88.47 51.06\n",
    "    \"\"\"\n",
    "    header = datafile.readline().strip()\n",
    "    n_instances, n_features = map(int, map(str.strip, header.split(\" \")))\n",
    "    lines = [datafile.readline().strip() for _ in range(n_instances)]\n",
    "    X = []\n",
    "    y = []\n",
    "    for line in lines:\n",
    "        values = [point for point in line.split(\" \") if point.strip() != \"\"]\n",
    "        y.append(int(values[0]))\n",
    "        mag_X = math.sqrt(sum(math.pow(float(x), 2) for x in values[1 : n_features + 1]))\n",
    "        X.append([float(x) / mag_X for x in values[1 : n_features + 1]])\n",
    "    return X, y"
   ]
  },
  {
   "cell_type": "code",
   "execution_count": 4,
   "id": "4f9bb29c-bdba-40ca-89ba-960a592061d9",
   "metadata": {},
   "outputs": [],
   "source": [
    "datafile = pathlib.Path.cwd().joinpath('data').joinpath('L30fft16.out')\n",
    "with open(datafile) as f:\n",
    "    X, y = parse_datafile(f)"
   ]
  },
  {
   "cell_type": "code",
   "execution_count": 5,
   "id": "5d2d08d1-725b-45da-8968-faf2e9db871c",
   "metadata": {},
   "outputs": [],
   "source": [
    "M = 9 # number of V centroids\n",
    "N = len(X[0]) # number of dimensions\n",
    "T = 10 # max number of time units"
   ]
  },
  {
   "cell_type": "code",
   "execution_count": 6,
   "id": "0b011304-1a2f-4f8e-9b47-7cb594d68240",
   "metadata": {},
   "outputs": [],
   "source": [
    "class Neuron:\n",
    "    def __init__(self, xy_loc: tuple[int, int], n: int=N):\n",
    "        self.weights = [random.uniform(-1.0, 1.0) for _ in range(n)]\n",
    "        self.loc = xy_loc"
   ]
  },
  {
   "cell_type": "code",
   "execution_count": 7,
   "id": "6826d47c-67da-4fa5-afff-07cb25af6681",
   "metadata": {},
   "outputs": [],
   "source": [
    "def dist(V, X):\n",
    "    \"\"\"\n",
    "    distance between two vectors in n space\n",
    "    \"\"\"\n",
    "    return math.sqrt(sum(math.pow(v - x, 2) for v, x in zip(V, X)))"
   ]
  },
  {
   "cell_type": "code",
   "execution_count": 8,
   "id": "50c5739f-5c18-4deb-aae8-7ab07d4a6189",
   "metadata": {},
   "outputs": [],
   "source": [
    "def distneurons(V1, V2):\n",
    "    \"\"\"\n",
    "    distance between two neurons\n",
    "    \"\"\"\n",
    "    return dist(V1.loc, V2.loc) # TODO: incorporate wrap-around"
   ]
  },
  {
   "cell_type": "code",
   "execution_count": 9,
   "id": "e258024a-5025-4683-9670-4ebac2b1ff33",
   "metadata": {},
   "outputs": [],
   "source": [
    "def r(t):\n",
    "    return math.exp(-t/T)"
   ]
  },
  {
   "cell_type": "code",
   "execution_count": 10,
   "id": "9a65dac7-3540-413e-b5a9-9f01185bb8be",
   "metadata": {},
   "outputs": [],
   "source": [
    "def rbfdist(V, X, r):\n",
    "    return math.exp(-r * math.pow(dist(V, X), 2))"
   ]
  },
  {
   "cell_type": "code",
   "execution_count": 11,
   "id": "8d9a47e6-e00c-475d-bb99-9ef22157fc7b",
   "metadata": {},
   "outputs": [],
   "source": [
    "def neighborhoodproximity(V1, V2, t):\n",
    "    return math.exp(-t/T * math.pow(distneurons(V1, V2), 2))"
   ]
  },
  {
   "cell_type": "code",
   "execution_count": 12,
   "id": "c6225a70-5cc4-4b0b-9283-222a57b64208",
   "metadata": {},
   "outputs": [],
   "source": [
    "def eta(t, initial_learning_rate):\n",
    "    return initial_learning_rate * math.exp(-2 * t / T)"
   ]
  },
  {
   "cell_type": "code",
   "execution_count": 14,
   "id": "77d2196d-fbd9-4964-b71a-6dc3c1f23cb3",
   "metadata": {},
   "outputs": [],
   "source": [
    "random.seed(123456789)\n",
    "l_rate = 1.0\n",
    "neurons = [Neuron(divmod(m, math.sqrt(M)), n=N) for m in range(M)]\n",
    "before = [n.weights for n in neurons]\n",
    "for t in range(T):\n",
    "    x = random.choice(X)\n",
    "    v0 = min(neurons, key=lambda neuron: dist(neuron.weights, x))\n",
    "    # update v0 to become closer to x\n",
    "    delta_v0 = eta(t, l_rate) * rbfdist(v0.weights, x, r(t))\n",
    "    v0.weights = [w + delta_v0 for w in v0.weights]\n",
    "    # update all vs based on neighbourhood update function\n",
    "    for v in neurons:\n",
    "        if v != v0:\n",
    "            for j in range(N):\n",
    "                v.weights[j] = v.weights[j] + eta(t, l_rate) * neighborhoodproximity(v0, v, t) * (v.weights[j] - x[j])\n",
    "after = [n.weights for n in neurons]"
   ]
  }
 ],
 "metadata": {
  "kernelspec": {
   "display_name": "Python 3 (ipykernel)",
   "language": "python",
   "name": "python3"
  },
  "language_info": {
   "codemirror_mode": {
    "name": "ipython",
    "version": 3
   },
   "file_extension": ".py",
   "mimetype": "text/x-python",
   "name": "python",
   "nbconvert_exporter": "python",
   "pygments_lexer": "ipython3",
   "version": "3.12.7"
  }
 },
 "nbformat": 4,
 "nbformat_minor": 5
}
